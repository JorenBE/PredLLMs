{
 "cells": [
  {
   "cell_type": "code",
   "execution_count": 1,
   "metadata": {},
   "outputs": [],
   "source": [
    "%load_ext autoreload\n",
    "%autoreload 2"
   ]
  },
  {
   "cell_type": "code",
   "execution_count": 15,
   "metadata": {},
   "outputs": [],
   "source": [
    "import numpy as np\n",
    "import pandas as pd"
   ]
  },
  {
   "cell_type": "code",
   "execution_count": 14,
   "metadata": {},
   "outputs": [],
   "source": [
    "x = np.load('/home/kjablonka/git/gptchem-gptj/experiments/classification/polymer_mit/Train_input.npy')\n",
    "y = np.load('/home/kjablonka/git/gptchem-gptj/experiments/classification/polymer_mit/Train_output.npy')"
   ]
  },
  {
   "cell_type": "code",
   "execution_count": 13,
   "metadata": {},
   "outputs": [
    {
     "data": {
      "text/plain": [
       "'B B B B A A B B B A B A B B B A B B B B'"
      ]
     },
     "execution_count": 13,
     "metadata": {},
     "output_type": "execute_result"
    }
   ],
   "source": [
    "str(x[0]).replace('0', 'A').replace('1', 'B').replace('[', '').replace(']', '')"
   ]
  },
  {
   "cell_type": "code",
   "execution_count": 17,
   "metadata": {},
   "outputs": [],
   "source": [
    "rows = []\n",
    "\n",
    "for i in range(len(x)):\n",
    "    rows.append({\n",
    "        'SMILES': str(x[i]).replace('0', 'A').replace('1', 'B').replace('[', '').replace(']', ''),\n",
    "        'y': y[i]\n",
    "    })"
   ]
  },
  {
   "cell_type": "code",
   "execution_count": 18,
   "metadata": {},
   "outputs": [],
   "source": [
    "df = pd.DataFrame(rows)"
   ]
  },
  {
   "cell_type": "code",
   "execution_count": 19,
   "metadata": {},
   "outputs": [
    {
     "data": {
      "text/html": [
       "<div>\n",
       "<style scoped>\n",
       "    .dataframe tbody tr th:only-of-type {\n",
       "        vertical-align: middle;\n",
       "    }\n",
       "\n",
       "    .dataframe tbody tr th {\n",
       "        vertical-align: top;\n",
       "    }\n",
       "\n",
       "    .dataframe thead th {\n",
       "        text-align: right;\n",
       "    }\n",
       "</style>\n",
       "<table border=\"1\" class=\"dataframe\">\n",
       "  <thead>\n",
       "    <tr style=\"text-align: right;\">\n",
       "      <th></th>\n",
       "      <th>SMILES</th>\n",
       "      <th>y</th>\n",
       "    </tr>\n",
       "  </thead>\n",
       "  <tbody>\n",
       "    <tr>\n",
       "      <th>0</th>\n",
       "      <td>B B B B A A B B B A B A B B B A B B B B</td>\n",
       "      <td>7.759848</td>\n",
       "    </tr>\n",
       "    <tr>\n",
       "      <th>1</th>\n",
       "      <td>B B B A A A B B A A B A B A B B B A B B</td>\n",
       "      <td>8.133042</td>\n",
       "    </tr>\n",
       "    <tr>\n",
       "      <th>2</th>\n",
       "      <td>A A B B A B B A B A B B B B A B B B B B</td>\n",
       "      <td>7.717979</td>\n",
       "    </tr>\n",
       "    <tr>\n",
       "      <th>3</th>\n",
       "      <td>B B B A B A A A A B A B A B A B B B B B</td>\n",
       "      <td>8.147355</td>\n",
       "    </tr>\n",
       "    <tr>\n",
       "      <th>4</th>\n",
       "      <td>B B B B B B A B B A B B B B B B B B B A</td>\n",
       "      <td>7.603120</td>\n",
       "    </tr>\n",
       "    <tr>\n",
       "      <th>...</th>\n",
       "      <td>...</td>\n",
       "      <td>...</td>\n",
       "    </tr>\n",
       "    <tr>\n",
       "      <th>15995</th>\n",
       "      <td>A B B A B A B A A A B A B A A A B A A B</td>\n",
       "      <td>7.937459</td>\n",
       "    </tr>\n",
       "    <tr>\n",
       "      <th>15996</th>\n",
       "      <td>B A A A B A A B A B A A A A A A A A A A</td>\n",
       "      <td>8.555531</td>\n",
       "    </tr>\n",
       "    <tr>\n",
       "      <th>15997</th>\n",
       "      <td>A A A B B B B B A A A A A A A B A B A A</td>\n",
       "      <td>8.823526</td>\n",
       "    </tr>\n",
       "    <tr>\n",
       "      <th>15998</th>\n",
       "      <td>B A A B B A B B B B A B A A B A A A A B</td>\n",
       "      <td>8.237800</td>\n",
       "    </tr>\n",
       "    <tr>\n",
       "      <th>15999</th>\n",
       "      <td>B A A B B B B A B B A B A B B B B A A A</td>\n",
       "      <td>8.106131</td>\n",
       "    </tr>\n",
       "  </tbody>\n",
       "</table>\n",
       "<p>16000 rows × 2 columns</p>\n",
       "</div>"
      ],
      "text/plain": [
       "                                        SMILES         y\n",
       "0      B B B B A A B B B A B A B B B A B B B B  7.759848\n",
       "1      B B B A A A B B A A B A B A B B B A B B  8.133042\n",
       "2      A A B B A B B A B A B B B B A B B B B B  7.717979\n",
       "3      B B B A B A A A A B A B A B A B B B B B  8.147355\n",
       "4      B B B B B B A B B A B B B B B B B B B A  7.603120\n",
       "...                                        ...       ...\n",
       "15995  A B B A B A B A A A B A B A A A B A A B  7.937459\n",
       "15996  B A A A B A A B A B A A A A A A A A A A  8.555531\n",
       "15997  A A A B B B B B A A A A A A A B A B A A  8.823526\n",
       "15998  B A A B B A B B B B A B A A B A A A A B  8.237800\n",
       "15999  B A A B B B B A B B A B A B B B B A A A  8.106131\n",
       "\n",
       "[16000 rows x 2 columns]"
      ]
     },
     "execution_count": 19,
     "metadata": {},
     "output_type": "execute_result"
    }
   ],
   "source": [
    "df"
   ]
  },
  {
   "cell_type": "code",
   "execution_count": 20,
   "metadata": {},
   "outputs": [
    {
     "data": {
      "text/plain": [
       "<Axes: >"
      ]
     },
     "execution_count": 20,
     "metadata": {},
     "output_type": "execute_result"
    },
    {
     "data": {
      "image/png": "[encoded data removed]",
      "text/plain": [
       "<Figure size 640x480 with 1 Axes>"
      ]
     },
     "metadata": {},
     "output_type": "display_data"
    }
   ],
   "source": [
    "df.y.hist()"
   ]
  },
  {
   "cell_type": "code",
   "execution_count": 21,
   "metadata": {},
   "outputs": [],
   "source": [
    "df.to_csv('data.csv', index=False)"
   ]
  },
  {
   "cell_type": "code",
   "execution_count": null,
   "metadata": {},
   "outputs": [],
   "source": []
  }
 ],
 "metadata": {
  "kernelspec": {
   "display_name": "gptj",
   "language": "python",
   "name": "python3"
  },
  "language_info": {
   "codemirror_mode": {
    "name": "ipython",
    "version": 3
   },
   "file_extension": ".py",
   "mimetype": "text/x-python",
   "name": "python",
   "nbconvert_exporter": "python",
   "pygments_lexer": "ipython3",
   "version": "3.8.16"
  },
  "orig_nbformat": 4
 },
 "nbformat": 4,
 "nbformat_minor": 2
}
